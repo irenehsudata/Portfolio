{
 "cells": [
  {
   "cell_type": "code",
   "execution_count": 1,
   "metadata": {},
   "outputs": [],
   "source": [
    "import pandas as pd\n",
    "import numpy as np\n",
    "import yaml\n",
    "import snowflake.connector\n",
    "from snowflake.connector.pandas_tools import write_pandas"
   ]
  },
  {
   "cell_type": "markdown",
   "metadata": {},
   "source": [
    "# Connect to Snowflake"
   ]
  },
  {
   "cell_type": "code",
   "execution_count": 2,
   "metadata": {},
   "outputs": [],
   "source": [
    "with open(\"/Users/irene/CloudStation/Portfolio/snowflake-data-load/config/snowflake_key.yaml\", \"r\") as file:\n",
    "    account_data = yaml.safe_load(file)"
   ]
  },
  {
   "cell_type": "code",
   "execution_count": 53,
   "metadata": {},
   "outputs": [],
   "source": [
    "conn = snowflake.connector.connect(\n",
    "    user=account_data[\"user\"],\n",
    "    password=account_data[\"password\"],\n",
    "    account=account_data[\"account\"],\n",
    "    warehouse=account_data[\"warehouse\"],\n",
    "    database=account_data[\"database\"],\n",
    "    schema=account_data[\"schema\"]\n",
    "    )"
   ]
  },
  {
   "cell_type": "code",
   "execution_count": 54,
   "metadata": {},
   "outputs": [
    {
     "data": {
      "text/plain": [
       "<snowflake.connector.cursor.SnowflakeCursor at 0x118d82d50>"
      ]
     },
     "execution_count": 54,
     "metadata": {},
     "output_type": "execute_result"
    }
   ],
   "source": [
    "conn.cursor().execute(\"USE WAREHOUSE insurance_wh\")\n",
    "conn.cursor().execute(\"USE DATABASE insurance_db\")\n",
    "conn.cursor().execute(\"USE SCHEMA insurance_db.insurance_schema\")"
   ]
  },
  {
   "cell_type": "markdown",
   "metadata": {},
   "source": [
    "# Load data"
   ]
  },
  {
   "cell_type": "code",
   "execution_count": 6,
   "metadata": {},
   "outputs": [],
   "source": [
    "path = \"/Users/irene/CloudStation/Portfolio/snowflake-data-load/task-1/raw-data/Analytics Engineer Data Load.xlsx\"\n",
    "df = pd.read_excel(path, sheet_name=\"Sheet1\")"
   ]
  },
  {
   "cell_type": "code",
   "execution_count": null,
   "metadata": {},
   "outputs": [
    {
     "name": "stdout",
     "output_type": "stream",
     "text": [
      "<class 'pandas.core.frame.DataFrame'>\n",
      "RangeIndex: 25 entries, 0 to 24\n",
      "Data columns (total 6 columns):\n",
      " #   Column       Non-Null Count  Dtype         \n",
      "---  ------       --------------  -----         \n",
      " 0   Name         25 non-null     object        \n",
      " 1   ClaimNumber  25 non-null     object        \n",
      " 2   Date         25 non-null     datetime64[ns]\n",
      " 3   Amount       25 non-null     float64       \n",
      " 4   ID           25 non-null     int64         \n",
      " 5   Hidden       0 non-null      float64       \n",
      "dtypes: datetime64[ns](1), float64(2), int64(1), object(2)\n",
      "memory usage: 1.3+ KB\n"
     ]
    }
   ],
   "source": [
    "df.info()"
   ]
  },
  {
   "cell_type": "markdown",
   "metadata": {},
   "source": [
    "# Load raw data to INSURANCE_RAW"
   ]
  },
  {
   "cell_type": "code",
   "execution_count": 7,
   "metadata": {},
   "outputs": [],
   "source": [
    "# drop column\n",
    "df.drop(columns=['Hidden'], inplace=True)\n",
    "\n",
    "# rename column\n",
    "new_column_names = {\n",
    "    'Name': 'CUSTOMER_NAME',\n",
    "    'ClaimNumber': 'CLAIM_NUMBER',\n",
    "    'Date': 'CLAIM_DATE',\n",
    "    'Amount': 'CLAIM_AMOUNT',\n",
    "    'ID': 'CUSTOMER_ID'\n",
    "}\n",
    "\n",
    "df.rename(columns=new_column_names, inplace=True)\n",
    "\n",
    "# fix data type \n",
    "df['CLAIM_NUMBER'] = df['CLAIM_NUMBER'].astype(str)\n",
    "df['CUSTOMER_NAME'] = df['CUSTOMER_NAME'].astype(str)\n",
    "df['CUSTOMER_ID'] = df['CUSTOMER_ID'].astype(str)\n",
    "df[\"CLAIM_AMOUNT\"] = df[\"CLAIM_AMOUNT\"].astype(float)\n",
    "df[\"CLAIM_DATE\"] = df[\"CLAIM_DATE\"].dt.strftime('%Y-%m-%d')"
   ]
  },
  {
   "cell_type": "markdown",
   "metadata": {},
   "source": [
    "## Create table"
   ]
  },
  {
   "cell_type": "code",
   "execution_count": 8,
   "metadata": {},
   "outputs": [
    {
     "data": {
      "text/plain": [
       "True"
      ]
     },
     "execution_count": 8,
     "metadata": {},
     "output_type": "execute_result"
    }
   ],
   "source": [
    "# define the create table query based on your DataFrame columns\n",
    "create_table_query = \"\"\"\n",
    "CREATE TABLE IF NOT EXISTS INSURANCE_RAW (\n",
    "    customer_name STRING,\n",
    "    claim_number STRING,\n",
    "    claim_date DATE,\n",
    "    claim_amount FLOAT,\n",
    "    customer_id STRING\n",
    ")\n",
    "\"\"\"\n",
    "\n",
    "# Execute the query\n",
    "cursor = conn.cursor()\n",
    "cursor.execute(create_table_query)"
   ]
  },
  {
   "cell_type": "markdown",
   "metadata": {},
   "source": [
    "## Upload"
   ]
  },
  {
   "cell_type": "code",
   "execution_count": 9,
   "metadata": {},
   "outputs": [
    {
     "name": "stdout",
     "output_type": "stream",
     "text": [
      "Successfully loaded 25 rows into Snowflake table.\n"
     ]
    }
   ],
   "source": [
    "# upload raw data to Snowflake\n",
    "success, nchunks, nrows, _ = write_pandas(conn, df, 'INSURANCE_RAW')\n",
    "\n",
    "if success:\n",
    "    print(f\"Successfully loaded {nrows} rows into Snowflake table.\")\n",
    "else:\n",
    "    print(\"Failed to load data into Snowflake.\")"
   ]
  },
  {
   "cell_type": "markdown",
   "metadata": {},
   "source": [
    "# Transformation"
   ]
  },
  {
   "cell_type": "markdown",
   "metadata": {},
   "source": [
    "## Load raw data from INSURANCE_RAW"
   ]
  },
  {
   "cell_type": "code",
   "execution_count": 91,
   "metadata": {},
   "outputs": [],
   "source": [
    "sql_query = \"\"\"\n",
    "SELECT * FROM INSURANCE_RAW\n",
    "\"\"\"\n",
    "\n",
    "cursor = conn.cursor()\n",
    "cursor.execute(sql_query)\n",
    "df_raw = cursor.fetch_pandas_all()"
   ]
  },
  {
   "cell_type": "markdown",
   "metadata": {},
   "source": [
    "## Cleaning"
   ]
  },
  {
   "cell_type": "code",
   "execution_count": 75,
   "metadata": {},
   "outputs": [],
   "source": [
    "# drop duplicates across specific columns\n",
    "def drop_duplicates(df, columns):\n",
    "    \"\"\"\n",
    "    Drop duplicates in a DataFrame based on specified columns.\n",
    "    \n",
    "    Parameters:\n",
    "        df (pandas.DataFrame): Input DataFrame.\n",
    "        columns (list): List of column names to check for duplicates.\n",
    "        \n",
    "    Returns:\n",
    "        pandas.DataFrame: DataFrame with duplicates dropped.\n",
    "    \"\"\"\n",
    "    # Check for duplicates across specified columns\n",
    "    duplicates = df.duplicated(subset=columns, keep=False)\n",
    "    \n",
    "    # Drop duplicates if they exist\n",
    "    if duplicates.any():\n",
    "        df.drop_duplicates(subset=columns, keep='first', inplace=True)\n",
    "    \n",
    "    return df"
   ]
  },
  {
   "cell_type": "code",
   "execution_count": 92,
   "metadata": {},
   "outputs": [],
   "source": [
    "columns_to_check = ['CUSTOMER_NAME', 'CLAIM_NUMBER', 'CLAIM_DATE', 'CLAIM_AMOUNT']\n",
    "\n",
    "df_cleaned = drop_duplicates(df_raw, columns_to_check)"
   ]
  },
  {
   "cell_type": "code",
   "execution_count": 93,
   "metadata": {},
   "outputs": [],
   "source": [
    "# remove non-English characters\n",
    "df_cleaned['CUSTOMER_NAME'] = df_cleaned['CUSTOMER_NAME'].str.replace(r'[^\\x00-\\x7F]+', '', regex=True)\n",
    "\n",
    "# remove non-numeric characters \n",
    "df_cleaned['CLAIM_NUMBER'] = df_cleaned['CLAIM_NUMBER'].str.replace(r'\\D', '', regex=True)\n",
    "\n",
    "# remove commas and special symbols\n",
    "df_cleaned['CUSTOMER_NAME'] = df_cleaned['CUSTOMER_NAME'].str.replace(r'[^\\w\\s]+', '', regex=True)\n",
    "\n",
    "# # Replace any spaces with single spaces\n",
    "df_cleaned['CUSTOMER_NAME'] = df_cleaned['CUSTOMER_NAME'].str.replace(r'\\s+', ' ', regex=True)\n"
   ]
  },
  {
   "cell_type": "code",
   "execution_count": 94,
   "metadata": {},
   "outputs": [
    {
     "data": {
      "text/html": [
       "<div>\n",
       "<style scoped>\n",
       "    .dataframe tbody tr th:only-of-type {\n",
       "        vertical-align: middle;\n",
       "    }\n",
       "\n",
       "    .dataframe tbody tr th {\n",
       "        vertical-align: top;\n",
       "    }\n",
       "\n",
       "    .dataframe thead th {\n",
       "        text-align: right;\n",
       "    }\n",
       "</style>\n",
       "<table border=\"1\" class=\"dataframe\">\n",
       "  <thead>\n",
       "    <tr style=\"text-align: right;\">\n",
       "      <th></th>\n",
       "      <th>CUSTOMER_NAME</th>\n",
       "      <th>CLAIM_NUMBER</th>\n",
       "      <th>CLAIM_DATE</th>\n",
       "      <th>CLAIM_AMOUNT</th>\n",
       "      <th>CUSTOMER_ID</th>\n",
       "    </tr>\n",
       "  </thead>\n",
       "  <tbody>\n",
       "    <tr>\n",
       "      <th>0</th>\n",
       "      <td>James Bond</td>\n",
       "      <td>409853945</td>\n",
       "      <td>1984-01-01</td>\n",
       "      <td>4.500000e+01</td>\n",
       "      <td>1</td>\n",
       "    </tr>\n",
       "    <tr>\n",
       "      <th>1</th>\n",
       "      <td>Peter</td>\n",
       "      <td>5345435435</td>\n",
       "      <td>2021-01-02</td>\n",
       "      <td>5.460000e+02</td>\n",
       "      <td>2</td>\n",
       "    </tr>\n",
       "    <tr>\n",
       "      <th>2</th>\n",
       "      <td>Steve</td>\n",
       "      <td>543645346</td>\n",
       "      <td>1984-01-03</td>\n",
       "      <td>5.560000e+02</td>\n",
       "      <td>3</td>\n",
       "    </tr>\n",
       "    <tr>\n",
       "      <th>3</th>\n",
       "      <td>Bill</td>\n",
       "      <td>7756</td>\n",
       "      <td>1987-01-04</td>\n",
       "      <td>7.640000e+02</td>\n",
       "      <td>4</td>\n",
       "    </tr>\n",
       "    <tr>\n",
       "      <th>4</th>\n",
       "      <td>Scott</td>\n",
       "      <td>40845954</td>\n",
       "      <td>1984-01-05</td>\n",
       "      <td>5.650000e+02</td>\n",
       "      <td>5</td>\n",
       "    </tr>\n",
       "    <tr>\n",
       "      <th>5</th>\n",
       "      <td>Ben</td>\n",
       "      <td>55663</td>\n",
       "      <td>1989-01-06</td>\n",
       "      <td>7.760000e+02</td>\n",
       "      <td>6</td>\n",
       "    </tr>\n",
       "    <tr>\n",
       "      <th>6</th>\n",
       "      <td>Jay</td>\n",
       "      <td>45435435</td>\n",
       "      <td>1984-01-07</td>\n",
       "      <td>5.667000e+03</td>\n",
       "      <td>7</td>\n",
       "    </tr>\n",
       "    <tr>\n",
       "      <th>7</th>\n",
       "      <td>Smith</td>\n",
       "      <td>453464</td>\n",
       "      <td>2016-12-30</td>\n",
       "      <td>5.645600e+04</td>\n",
       "      <td>8</td>\n",
       "    </tr>\n",
       "    <tr>\n",
       "      <th>8</th>\n",
       "      <td>Dr Jacob</td>\n",
       "      <td>4366563674</td>\n",
       "      <td>2016-12-31</td>\n",
       "      <td>3.432400e+04</td>\n",
       "      <td>9</td>\n",
       "    </tr>\n",
       "    <tr>\n",
       "      <th>9</th>\n",
       "      <td>Will Smith</td>\n",
       "      <td>3465764</td>\n",
       "      <td>2017-01-01</td>\n",
       "      <td>5.654600e+04</td>\n",
       "      <td>10</td>\n",
       "    </tr>\n",
       "    <tr>\n",
       "      <th>10</th>\n",
       "      <td>William</td>\n",
       "      <td>543345435</td>\n",
       "      <td>1996-07-05</td>\n",
       "      <td>6.456000e+03</td>\n",
       "      <td>11</td>\n",
       "    </tr>\n",
       "    <tr>\n",
       "      <th>11</th>\n",
       "      <td>Tim</td>\n",
       "      <td>43554356456</td>\n",
       "      <td>1996-07-06</td>\n",
       "      <td>5.664300e+04</td>\n",
       "      <td>12</td>\n",
       "    </tr>\n",
       "    <tr>\n",
       "      <th>12</th>\n",
       "      <td>Tom</td>\n",
       "      <td>5654647465</td>\n",
       "      <td>1996-07-07</td>\n",
       "      <td>5.435300e+04</td>\n",
       "      <td>13</td>\n",
       "    </tr>\n",
       "    <tr>\n",
       "      <th>13</th>\n",
       "      <td>Matt</td>\n",
       "      <td>6457677</td>\n",
       "      <td>1996-07-08</td>\n",
       "      <td>5.334880e+03</td>\n",
       "      <td>14</td>\n",
       "    </tr>\n",
       "    <tr>\n",
       "      <th>14</th>\n",
       "      <td>Joran</td>\n",
       "      <td>53453443</td>\n",
       "      <td>1996-07-09</td>\n",
       "      <td>5.587660e+01</td>\n",
       "      <td>15</td>\n",
       "    </tr>\n",
       "    <tr>\n",
       "      <th>15</th>\n",
       "      <td>Hiot</td>\n",
       "      <td>53453444</td>\n",
       "      <td>1996-07-10</td>\n",
       "      <td>6.343247e+00</td>\n",
       "      <td>16</td>\n",
       "    </tr>\n",
       "    <tr>\n",
       "      <th>16</th>\n",
       "      <td>Ji Pi</td>\n",
       "      <td>53453445</td>\n",
       "      <td>1996-07-11</td>\n",
       "      <td>3.454543e+06</td>\n",
       "      <td>17</td>\n",
       "    </tr>\n",
       "    <tr>\n",
       "      <th>17</th>\n",
       "      <td>Kelly</td>\n",
       "      <td>53453446</td>\n",
       "      <td>1996-07-12</td>\n",
       "      <td>4.554450e+05</td>\n",
       "      <td>18</td>\n",
       "    </tr>\n",
       "    <tr>\n",
       "      <th>18</th>\n",
       "      <td>Stella</td>\n",
       "      <td>53453447</td>\n",
       "      <td>1996-07-13</td>\n",
       "      <td>6.543534e+06</td>\n",
       "      <td>19</td>\n",
       "    </tr>\n",
       "    <tr>\n",
       "      <th>19</th>\n",
       "      <td>William Jr</td>\n",
       "      <td>53453448</td>\n",
       "      <td>1996-07-14</td>\n",
       "      <td>4.356560e+05</td>\n",
       "      <td>20</td>\n",
       "    </tr>\n",
       "    <tr>\n",
       "      <th>20</th>\n",
       "      <td>Lauren</td>\n",
       "      <td>53453449</td>\n",
       "      <td>1996-07-15</td>\n",
       "      <td>4.534570e+04</td>\n",
       "      <td>21</td>\n",
       "    </tr>\n",
       "    <tr>\n",
       "      <th>21</th>\n",
       "      <td>Marget</td>\n",
       "      <td>453464</td>\n",
       "      <td>1996-07-16</td>\n",
       "      <td>3.454350e+05</td>\n",
       "      <td>22</td>\n",
       "    </tr>\n",
       "    <tr>\n",
       "      <th>22</th>\n",
       "      <td>Pluto</td>\n",
       "      <td>4366563674</td>\n",
       "      <td>1996-07-17</td>\n",
       "      <td>4.534542e+06</td>\n",
       "      <td>23</td>\n",
       "    </tr>\n",
       "  </tbody>\n",
       "</table>\n",
       "</div>"
      ],
      "text/plain": [
       "   CUSTOMER_NAME CLAIM_NUMBER  CLAIM_DATE  CLAIM_AMOUNT CUSTOMER_ID\n",
       "0     James Bond    409853945  1984-01-01  4.500000e+01           1\n",
       "1          Peter   5345435435  2021-01-02  5.460000e+02           2\n",
       "2          Steve    543645346  1984-01-03  5.560000e+02           3\n",
       "3           Bill         7756  1987-01-04  7.640000e+02           4\n",
       "4          Scott     40845954  1984-01-05  5.650000e+02           5\n",
       "5            Ben        55663  1989-01-06  7.760000e+02           6\n",
       "6            Jay     45435435  1984-01-07  5.667000e+03           7\n",
       "7          Smith       453464  2016-12-30  5.645600e+04           8\n",
       "8       Dr Jacob   4366563674  2016-12-31  3.432400e+04           9\n",
       "9     Will Smith      3465764  2017-01-01  5.654600e+04          10\n",
       "10      William     543345435  1996-07-05  6.456000e+03          11\n",
       "11           Tim  43554356456  1996-07-06  5.664300e+04          12\n",
       "12           Tom   5654647465  1996-07-07  5.435300e+04          13\n",
       "13          Matt      6457677  1996-07-08  5.334880e+03          14\n",
       "14         Joran     53453443  1996-07-09  5.587660e+01          15\n",
       "15          Hiot     53453444  1996-07-10  6.343247e+00          16\n",
       "16         Ji Pi     53453445  1996-07-11  3.454543e+06          17\n",
       "17         Kelly     53453446  1996-07-12  4.554450e+05          18\n",
       "18        Stella     53453447  1996-07-13  6.543534e+06          19\n",
       "19    William Jr     53453448  1996-07-14  4.356560e+05          20\n",
       "20        Lauren     53453449  1996-07-15  4.534570e+04          21\n",
       "21        Marget       453464  1996-07-16  3.454350e+05          22\n",
       "22         Pluto   4366563674  1996-07-17  4.534542e+06          23"
      ]
     },
     "execution_count": 94,
     "metadata": {},
     "output_type": "execute_result"
    }
   ],
   "source": [
    "df_cleaned"
   ]
  },
  {
   "cell_type": "markdown",
   "metadata": {},
   "source": [
    "## Load df_cleaned to INSURANCE_CLEANED"
   ]
  },
  {
   "cell_type": "markdown",
   "metadata": {},
   "source": [
    "### Create table"
   ]
  },
  {
   "cell_type": "code",
   "execution_count": 96,
   "metadata": {},
   "outputs": [
    {
     "data": {
      "text/plain": [
       "<snowflake.connector.cursor.SnowflakeCursor at 0x11bc75b10>"
      ]
     },
     "execution_count": 96,
     "metadata": {},
     "output_type": "execute_result"
    }
   ],
   "source": [
    "# define the create table query based on your DataFrame columns\n",
    "create_table_query = \"\"\"\n",
    "CREATE TABLE IF NOT EXISTS INSURANCE_CLEANED (\n",
    "    customer_name STRING,\n",
    "    claim_number STRING,\n",
    "    claim_date DATE,\n",
    "    claim_amount FLOAT,\n",
    "    customer_id STRING\n",
    ")\n",
    "\"\"\"\n",
    "\n",
    "# Execute the query\n",
    "cursor = conn.cursor()\n",
    "cursor.execute(create_table_query)"
   ]
  },
  {
   "cell_type": "markdown",
   "metadata": {},
   "source": [
    "### Upload"
   ]
  },
  {
   "cell_type": "code",
   "execution_count": 97,
   "metadata": {},
   "outputs": [
    {
     "name": "stderr",
     "output_type": "stream",
     "text": [
      "/var/folders/65/l8gwbbg117z6hscwvjl3vg0m0000gn/T/ipykernel_8527/194798855.py:2: UserWarning: Pandas Dataframe has non-standard index of type <class 'pandas.core.indexes.base.Index'> which will not be written. Consider changing the index to pd.RangeIndex(start=0,...,step=1) or call reset_index() to keep index as column(s)\n",
      "  success, nchunks, nrows, _ = write_pandas(conn, df_cleaned, 'INSURANCE_CLEANED')\n"
     ]
    },
    {
     "name": "stdout",
     "output_type": "stream",
     "text": [
      "Successfully loaded 23 rows into Snowflake table.\n"
     ]
    }
   ],
   "source": [
    "# upload raw data to Snowflake\n",
    "success, nchunks, nrows, _ = write_pandas(conn, df_cleaned, 'INSURANCE_CLEANED')\n",
    "\n",
    "if success:\n",
    "    print(f\"Successfully loaded {nrows} rows into Snowflake table.\")\n",
    "else:\n",
    "    print(\"Failed to load data into Snowflake.\")"
   ]
  }
 ],
 "metadata": {
  "kernelspec": {
   "display_name": "DL",
   "language": "python",
   "name": "python3"
  },
  "language_info": {
   "codemirror_mode": {
    "name": "ipython",
    "version": 3
   },
   "file_extension": ".py",
   "mimetype": "text/x-python",
   "name": "python",
   "nbconvert_exporter": "python",
   "pygments_lexer": "ipython3",
   "version": "3.11.3"
  }
 },
 "nbformat": 4,
 "nbformat_minor": 2
}
