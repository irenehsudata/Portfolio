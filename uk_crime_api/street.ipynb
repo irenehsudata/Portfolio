{
 "cells": [
  {
   "cell_type": "code",
   "execution_count": 1,
   "metadata": {},
   "outputs": [],
   "source": [
    "import pandas as pd\n",
    "import requests\n",
    "import snowflake.connector\n",
    "from snowflake.connector.pandas_tools import write_pandas"
   ]
  },
  {
   "cell_type": "code",
   "execution_count": 2,
   "metadata": {},
   "outputs": [],
   "source": [
    "from tqdm import tqdm"
   ]
  },
  {
   "cell_type": "markdown",
   "metadata": {},
   "source": [
    "# Connect Snowflake"
   ]
  },
  {
   "cell_type": "code",
   "execution_count": 12,
   "metadata": {},
   "outputs": [],
   "source": [
    "import yaml\n",
    "SNOWFLAKE_PATH = \"/Users/irene/CloudStation/Portfolio/uk_crime_api/config/snowflake_key.yaml\"\n",
    "with open(SNOWFLAKE_PATH, \"r\") as file:\n",
    "    account_data = yaml.safe_load(file)"
   ]
  },
  {
   "cell_type": "code",
   "execution_count": 14,
   "metadata": {},
   "outputs": [],
   "source": [
    "conn = snowflake.connector.connect(\n",
    "    user=account_data[\"user\"],\n",
    "    password=account_data[\"password\"],\n",
    "    account=account_data[\"account\"],\n",
    "    warehouse=account_data[\"warehouse\"],\n",
    "    database=account_data[\"database\"],\n",
    "    schema=account_data[\"schema\"]\n",
    "    )"
   ]
  },
  {
   "cell_type": "code",
   "execution_count": 16,
   "metadata": {},
   "outputs": [
    {
     "data": {
      "text/plain": [
       "<snowflake.connector.cursor.SnowflakeCursor at 0x10fcaa950>"
      ]
     },
     "execution_count": 16,
     "metadata": {},
     "output_type": "execute_result"
    }
   ],
   "source": [
    "conn.cursor().execute(\"USE WAREHOUSE insurance_wh\")\n",
    "conn.cursor().execute(\"USE DATABASE insurance_db\")\n",
    "conn.cursor().execute(\"USE SCHEMA insurance_db.CRIME_SCHEMA\") # change to police_crime schema"
   ]
  },
  {
   "cell_type": "markdown",
   "metadata": {},
   "source": [
    "# Postcode"
   ]
  },
  {
   "cell_type": "code",
   "execution_count": 28,
   "metadata": {},
   "outputs": [],
   "source": [
    "POSTCODE_PATH = \"/Users/irene/CloudStation/Portfolio/uk_crime_api/postcodes.csv\"\n",
    "postcode = pd.read_csv(POSTCODE_PATH)"
   ]
  },
  {
   "cell_type": "code",
   "execution_count": 29,
   "metadata": {},
   "outputs": [],
   "source": [
    "# fix data type \n",
    "postcode['postcode'] = postcode['postcode'].astype(str)\n",
    "postcode['eastings'] = postcode['eastings'].astype(int)\n",
    "postcode['northings'] = postcode['northings'].astype(int)\n",
    "postcode[\"latitude\"] = postcode[\"latitude\"].astype(float)\n",
    "postcode[\"longitude\"] = postcode[\"longitude\"].astype(float)\n",
    "postcode[\"town\"] = postcode[\"town\"].astype(str)\n",
    "postcode[\"region\"] = postcode[\"region\"].astype(str)\n",
    "postcode[\"country\"] = postcode[\"country\"].astype(str)\n",
    "postcode[\"country_string\"] = postcode[\"country_string\"].astype(str)\n",
    "\n",
    "# rename column\n",
    "new_column_names = {\n",
    "    'postcode': \"POSTCODE\",\n",
    "    'eastings': \"EASTINGS\",\n",
    "    'northings': \"NORTHINGS\",\n",
    "    'latitude': \"LATITUDE\",\n",
    "    'longitude': \"LONGITUDE\",\n",
    "    'town': \"TOWN\",\n",
    "    'region': \"REGION\",\n",
    "    'country': \"COUNTRY\",\n",
    "    'country_string': \"COUNTRY_STRING\"\n",
    "}\n",
    "\n",
    "postcode.rename(columns=new_column_names, inplace=True)"
   ]
  },
  {
   "cell_type": "code",
   "execution_count": 18,
   "metadata": {},
   "outputs": [
    {
     "data": {
      "text/plain": [
       "<snowflake.connector.cursor.SnowflakeCursor at 0x11cfcd750>"
      ]
     },
     "execution_count": 18,
     "metadata": {},
     "output_type": "execute_result"
    }
   ],
   "source": [
    "# define the create table query based on your DataFrame columns\n",
    "create_table_query = \"\"\"\n",
    "CREATE TABLE IF NOT EXISTS CRIME_POSTCODE (\n",
    "    postcode STRING,\n",
    "    eastings INT,\n",
    "    northings INT,\n",
    "    latitude FLOAT,\n",
    "    longitude FLOAT,\n",
    "    town STRING,\n",
    "    region STRING,\n",
    "    country STRING,\n",
    "    country_string STRING\n",
    ")\n",
    "\"\"\"\n",
    "\n",
    "# Execute the query\n",
    "cursor = conn.cursor()\n",
    "cursor.execute(create_table_query)"
   ]
  },
  {
   "cell_type": "code",
   "execution_count": 31,
   "metadata": {},
   "outputs": [
    {
     "name": "stdout",
     "output_type": "stream",
     "text": [
      "Successfully loaded 2854 rows into Snowflake table.\n"
     ]
    }
   ],
   "source": [
    "# upload postcode data to Snowflake\n",
    "success, nchunks, nrows, _ = write_pandas(conn, postcode, 'CRIME_POSTCODE')\n",
    "\n",
    "if success:\n",
    "    print(f\"Successfully loaded {nrows} rows into Snowflake table.\")\n",
    "else:\n",
    "    print(\"Failed to load data into Snowflake.\")"
   ]
  },
  {
   "cell_type": "markdown",
   "metadata": {},
   "source": [
    "# Get crime data"
   ]
  },
  {
   "cell_type": "code",
   "execution_count": 33,
   "metadata": {},
   "outputs": [],
   "source": [
    "# load postcode data from snowflake\n",
    "sql_query = \"\"\"\n",
    "SELECT latitude, longitude FROM CRIME_POSTCODE\n",
    "\"\"\"\n",
    "\n",
    "cursor = conn.cursor()\n",
    "cursor.execute(sql_query)\n",
    "postcode_lon_lat = cursor.fetch_pandas_all()"
   ]
  },
  {
   "cell_type": "code",
   "execution_count": 58,
   "metadata": {},
   "outputs": [],
   "source": [
    "postcode_lon_lat_dict = dict(zip(postcode_lon_lat[\"LATITUDE\"],postcode_lon_lat[\"LONGITUDE\"]))"
   ]
  },
  {
   "cell_type": "markdown",
   "metadata": {},
   "source": [
    "## Force"
   ]
  },
  {
   "cell_type": "code",
   "execution_count": 15,
   "metadata": {},
   "outputs": [],
   "source": [
    "from police_api import PoliceAPI\n",
    "api = PoliceAPI()"
   ]
  },
  {
   "cell_type": "code",
   "execution_count": 4,
   "metadata": {},
   "outputs": [],
   "source": [
    "forces = api.get_forces()\n",
    "\n",
    "def get_force_id(records, name=None):\n",
    "    ''' Get id force by name. If no name, return a dict of name:id mappings. '''\n",
    "    if name:\n",
    "        return {r.name: r.id for r in records if name.lower() in r.name.lower()}\n",
    "    return {r.name: r.id for r in records}\n",
    "\n",
    "# get the mapping of force names to their IDs\n",
    "force_name_id = get_force_id(forces)\n",
    "\n",
    "force_name_id_dict = {\"force\": {}}\n",
    "\n",
    "for name, id in force_name_id.items():\n",
    "    force_name_id_dict[\"force\"][name] = {\"id\": id}"
   ]
  },
  {
   "cell_type": "code",
   "execution_count": 5,
   "metadata": {},
   "outputs": [
    {
     "name": "stderr",
     "output_type": "stream",
     "text": [
      "  0%|          | 0/44 [00:00<?, ?it/s]"
     ]
    },
    {
     "name": "stderr",
     "output_type": "stream",
     "text": [
      "100%|██████████| 44/44 [01:00<00:00,  1.38s/it]\n"
     ]
    }
   ],
   "source": [
    "def get_neighbourhood_name_id(records, rid=None):\n",
    "    ''' Get record name by id. '''\n",
    "    if rid:\n",
    "        return {r.name:r.id for r in records if rid == r.id}\n",
    "    return {r.name:r.id for r in records}\n",
    "\n",
    "def extract_senior_officer_details(senior_officers):\n",
    "    return [{\"name\": officer.name, \"rank\": officer.rank, \"bio\": officer.bio, \"contact_details\": officer.contact_details} for officer in senior_officers]\n",
    "\n",
    "for force_name, details in tqdm(force_name_id_dict[\"force\"].items()):\n",
    "    force_id = details['id']\n",
    "    force_data = api.get_force(force_id)\n",
    "    \n",
    "    telephone = force_data.telephone\n",
    "    description = force_data.description\n",
    "    url = force_data.url\n",
    "    engagement_methods = force_data.engagement_methods\n",
    "    neighbourhoods = get_neighbourhood_name_id(force_data.neighbourhoods)\n",
    "    senior_officers = extract_senior_officer_details(force_data.senior_officers)\n",
    "    \n",
    "    # Update the dictionary with additional details\n",
    "    force_name_id_dict[\"force\"][force_name].update({\n",
    "        \"telephone\": telephone,\n",
    "        \"description\": description,\n",
    "        \"url\": url,\n",
    "        \"engagement_methods\": engagement_methods,\n",
    "        \"neighbourhoods\": neighbourhoods,\n",
    "        \"senior_officers\": senior_officers\n",
    "    })"
   ]
  },
  {
   "cell_type": "code",
   "execution_count": 81,
   "metadata": {},
   "outputs": [],
   "source": [
    "import json\n",
    "with open(\"force_raw.json\", \"w\") as outfile:\n",
    "    json.dump(force_name_id_dict, outfile)"
   ]
  },
  {
   "cell_type": "markdown",
   "metadata": {},
   "source": [
    "## Neighbourhood"
   ]
  },
  {
   "cell_type": "code",
   "execution_count": 70,
   "metadata": {},
   "outputs": [
    {
     "name": "stderr",
     "output_type": "stream",
     "text": [
      "  0%|          | 0/44 [00:00<?, ?it/s]"
     ]
    },
    {
     "name": "stderr",
     "output_type": "stream",
     "text": [
      "100%|██████████| 44/44 [00:19<00:00,  2.26it/s]\n"
     ]
    }
   ],
   "source": [
    "def get_neighbourhood_name_id(records, rid=None):\n",
    "    ''' Get record name by id. '''\n",
    "    if rid:\n",
    "        return {r.name:r.id for r in records if rid == r.id}\n",
    "    return {r.name:r.id for r in records}\n",
    "\n",
    "neighbourhood_dict = {\"neighbourhood\": {}}\n",
    "\n",
    "for force_name, details in tqdm(force_name_id_dict[\"force\"].items()):\n",
    "    force_id = details['id']\n",
    "    force_data = api.get_force(force_id)\n",
    "    neighbourhood_name_id = get_neighbourhood_name_id(force_data.neighbourhoods)\n",
    "    neighbourhood = force_data.get_neighbourhood(neighbourhood_name_id)\n",
    "    neighbourhood_dict[\"neighbourhood\"][force_name] = {}\n",
    "    for neighbourhood_name, neighbourhood_id in neighbourhood_name_id.items():\n",
    "        neighbourhood_dict[\"neighbourhood\"][force_name][neighbourhood_name] = {\n",
    "            \"id\": neighbourhood_id,\n",
    "            \"description\": description\n",
    "        }"
   ]
  },
  {
   "cell_type": "code",
   "execution_count": 83,
   "metadata": {},
   "outputs": [],
   "source": [
    "with open(\"neighbourhood_raw.json\", \"w\") as outfile:\n",
    "    json.dump(neighbourhood_dict, outfile)"
   ]
  },
  {
   "cell_type": "code",
   "execution_count": 11,
   "metadata": {},
   "outputs": [],
   "source": [
    "# def get_officers_info(neighbourhood_officer):\n",
    "#     return [{\"neighbourhood\": officer.neighbourhood, \"name\": officer.name, \"rank\": officer.rank, \n",
    "#             \"bio\": officer.bio, \"contact_details\": officer.contact_details} for officer in neighbourhood_officer]\n",
    "\n",
    "# def get_events_info(neighbourhood_event):\n",
    "#     return [{\"neighbourhood\": event.neighbourhood, \"title\": event.title, \"type\": event.type, \"description\": event.description,\n",
    "#              \"contact_details\": event.contact_details, \"start_date\": event.start_date, \"address\": event.address} for event in neighbourhood_event]\n",
    "\n",
    "# def get_priorities_info(neighbourhood_priority):\n",
    "#     return [{\"neighbourhood\": priority.neighbourhood, \"issue\": priority.issue, \"action\": priority.action, \n",
    "#             \"issue_date\": priority.issue_date, \"action_date\": priority.action_date} for priority in neighbourhood_priority]\n",
    "\n",
    "# def get_neighbourhood_info(force_neighbourhood):\n",
    "#     return [{\"name\": neighbourhood.name, \"id\": neighbourhood.id, \"description\": neighbourhood.description, \n",
    "#              \"url_force\": neighbourhood.url_force, \"population\": neighbourhood.population, \"locations\": neighbourhood.centre, \n",
    "#              \"links\": neighbourhood.links, \"locations\": neighbourhood.locations,\n",
    "#              \"contact_details\": neighbourhood.contact_details, \"officers\": get_officers_info(neighbourhood.officers), \"events\": get_events_info(neighbourhood.events),\n",
    "#              \"priorities\": get_priorities_info(neighbourhood.priorities), \"boundary\": neighbourhood.boundary} for neighbourhood in force_neighbourhood]"
   ]
  },
  {
   "cell_type": "markdown",
   "metadata": {},
   "source": [
    "## Crime"
   ]
  },
  {
   "cell_type": "code",
   "execution_count": null,
   "metadata": {},
   "outputs": [],
   "source": [
    "for force_name, details in tqdm(force_name_id_dict[\"force\"].items()):\n",
    "    force_id = details['id']\n",
    "    force_data = api.get_force(force_id)\n",
    "    neighbourhood_name_id = get_neighbourhood_name_id(force_data.neighbourhoods)\n",
    "    neighbourhood = force_data.get_neighbourhood(neighbourhood_name_id)\n",
    "    for key, value in neighbourhood_name_id.items():\n",
    "        print(key)\n",
    "\n"
   ]
  },
  {
   "cell_type": "code",
   "execution_count": null,
   "metadata": {},
   "outputs": [],
   "source": [
    "force_id = details['id']\n",
    "force_data = api.get_force(\"hampshire\")\n",
    "neighbourhood_name_id = get_neighbourhood_name_id(force_data.neighbourhoods)\n",
    "for key, value in tqdm(neighbourhood_name_id.items()):\n",
    "    # print(key)\n",
    "    neighbourhood = force_data.get_neighbourhood(key)"
   ]
  },
  {
   "cell_type": "code",
   "execution_count": 49,
   "metadata": {},
   "outputs": [
    {
     "ename": "APIError",
     "evalue": "<unknown error code>",
     "output_type": "error",
     "traceback": [
      "\u001b[0;31m---------------------------------------------------------------------------\u001b[0m",
      "\u001b[0;31mHTTPError\u001b[0m                                 Traceback (most recent call last)",
      "File \u001b[0;32m/opt/anaconda3/envs/DL/lib/python3.11/site-packages/police_api/service.py:22\u001b[0m, in \u001b[0;36mBaseService.raise_for_status\u001b[0;34m(self, request)\u001b[0m\n\u001b[1;32m     21\u001b[0m \u001b[38;5;28;01mtry\u001b[39;00m:\n\u001b[0;32m---> 22\u001b[0m     \u001b[43mrequest\u001b[49m\u001b[38;5;241;43m.\u001b[39;49m\u001b[43mraise_for_status\u001b[49m\u001b[43m(\u001b[49m\u001b[43m)\u001b[49m\n\u001b[1;32m     23\u001b[0m \u001b[38;5;28;01mexcept\u001b[39;00m requests\u001b[38;5;241m.\u001b[39mmodels\u001b[38;5;241m.\u001b[39mHTTPError \u001b[38;5;28;01mas\u001b[39;00m e:\n",
      "File \u001b[0;32m/opt/anaconda3/envs/DL/lib/python3.11/site-packages/requests/models.py:1024\u001b[0m, in \u001b[0;36mResponse.raise_for_status\u001b[0;34m(self)\u001b[0m\n\u001b[1;32m   1023\u001b[0m \u001b[38;5;28;01mif\u001b[39;00m http_error_msg:\n\u001b[0;32m-> 1024\u001b[0m     \u001b[38;5;28;01mraise\u001b[39;00m HTTPError(http_error_msg, response\u001b[38;5;241m=\u001b[39m\u001b[38;5;28mself\u001b[39m)\n",
      "\u001b[0;31mHTTPError\u001b[0m: 404 Client Error: NOT FOUND for url: https://data.police.uk:443/api/Staffordshire%20Police/neighbourhoods",
      "\nDuring handling of the above exception, another exception occurred:\n",
      "\u001b[0;31mAPIError\u001b[0m                                  Traceback (most recent call last)",
      "Cell \u001b[0;32mIn[49], line 7\u001b[0m\n\u001b[1;32m      5\u001b[0m     \u001b[38;5;28;01mreturn\u001b[39;00m {r\u001b[38;5;241m.\u001b[39mname:r\u001b[38;5;241m.\u001b[39mid \u001b[38;5;28;01mfor\u001b[39;00m r \u001b[38;5;129;01min\u001b[39;00m records}\n\u001b[1;32m      6\u001b[0m force \u001b[38;5;241m=\u001b[39m api\u001b[38;5;241m.\u001b[39mget_force(\u001b[38;5;124m'\u001b[39m\u001b[38;5;124mStaffordshire Police\u001b[39m\u001b[38;5;124m'\u001b[39m)\n\u001b[0;32m----> 7\u001b[0m areas \u001b[38;5;241m=\u001b[39m getNameId(\u001b[43mforce\u001b[49m\u001b[38;5;241;43m.\u001b[39;49m\u001b[43mneighbourhoods\u001b[49m)\n\u001b[1;32m      8\u001b[0m neighbourhood \u001b[38;5;241m=\u001b[39m force\u001b[38;5;241m.\u001b[39mget_neighbourhood(areas[\u001b[38;5;124m'\u001b[39m\u001b[38;5;124mAbbey Hulton &amp; Townsend\u001b[39m\u001b[38;5;124m'\u001b[39m])\n\u001b[1;32m      9\u001b[0m crimes \u001b[38;5;241m=\u001b[39m api\u001b[38;5;241m.\u001b[39mget_crimes_area(neighbourhood\u001b[38;5;241m.\u001b[39mboundary, date\u001b[38;5;241m=\u001b[39m\u001b[38;5;124m'\u001b[39m\u001b[38;5;124m2024-03\u001b[39m\u001b[38;5;124m'\u001b[39m)\n",
      "File \u001b[0;32m/opt/anaconda3/envs/DL/lib/python3.11/site-packages/police_api/forces.py:53\u001b[0m, in \u001b[0;36mForce.neighbourhoods\u001b[0;34m(self)\u001b[0m\n\u001b[1;32m     50\u001b[0m \u001b[38;5;129m@property\u001b[39m\n\u001b[1;32m     51\u001b[0m \u001b[38;5;28;01mdef\u001b[39;00m \u001b[38;5;21mneighbourhoods\u001b[39m(\u001b[38;5;28mself\u001b[39m):\n\u001b[1;32m     52\u001b[0m     \u001b[38;5;28;01mif\u001b[39;00m \u001b[38;5;28mself\u001b[39m\u001b[38;5;241m.\u001b[39m_neighbourhoods \u001b[38;5;129;01mis\u001b[39;00m \u001b[38;5;28;01mNone\u001b[39;00m:\n\u001b[0;32m---> 53\u001b[0m         \u001b[38;5;28mself\u001b[39m\u001b[38;5;241m.\u001b[39m_neighbourhoods \u001b[38;5;241m=\u001b[39m \u001b[38;5;28;43mself\u001b[39;49m\u001b[38;5;241;43m.\u001b[39;49m\u001b[43mapi\u001b[49m\u001b[38;5;241;43m.\u001b[39;49m\u001b[43mget_neighbourhoods\u001b[49m\u001b[43m(\u001b[49m\u001b[38;5;28;43mself\u001b[39;49m\u001b[43m)\u001b[49m\n\u001b[1;32m     54\u001b[0m     \u001b[38;5;28;01mreturn\u001b[39;00m \u001b[38;5;28mself\u001b[39m\u001b[38;5;241m.\u001b[39m_neighbourhoods\n",
      "File \u001b[0;32m/opt/anaconda3/envs/DL/lib/python3.11/site-packages/police_api/__init__.py:30\u001b[0m, in \u001b[0;36mPoliceAPI.get_neighbourhoods\u001b[0;34m(self, force)\u001b[0m\n\u001b[1;32m     27\u001b[0m     force \u001b[38;5;241m=\u001b[39m Force(\u001b[38;5;28mself\u001b[39m, \u001b[38;5;28mid\u001b[39m\u001b[38;5;241m=\u001b[39mforce)\n\u001b[1;32m     29\u001b[0m neighbourhoods \u001b[38;5;241m=\u001b[39m []\n\u001b[0;32m---> 30\u001b[0m \u001b[38;5;28;01mfor\u001b[39;00m n \u001b[38;5;129;01min\u001b[39;00m \u001b[38;5;28;43mself\u001b[39;49m\u001b[38;5;241;43m.\u001b[39;49m\u001b[43mservice\u001b[49m\u001b[38;5;241;43m.\u001b[39;49m\u001b[43mrequest\u001b[49m\u001b[43m(\u001b[49m\u001b[38;5;124;43m'\u001b[39;49m\u001b[38;5;124;43mGET\u001b[39;49m\u001b[38;5;124;43m'\u001b[39;49m\u001b[43m,\u001b[49m\u001b[43m \u001b[49m\u001b[38;5;124;43m'\u001b[39;49m\u001b[38;5;132;43;01m%s\u001b[39;49;00m\u001b[38;5;124;43m/neighbourhoods\u001b[39;49m\u001b[38;5;124;43m'\u001b[39;49m\u001b[43m \u001b[49m\u001b[38;5;241;43m%\u001b[39;49m\u001b[43m \u001b[49m\u001b[43mforce\u001b[49m\u001b[38;5;241;43m.\u001b[39;49m\u001b[43mid\u001b[49m\u001b[43m)\u001b[49m:\n\u001b[1;32m     31\u001b[0m     neighbourhoods\u001b[38;5;241m.\u001b[39mappend(\n\u001b[1;32m     32\u001b[0m         Neighbourhood(\u001b[38;5;28mself\u001b[39m, force\u001b[38;5;241m=\u001b[39mforce, \u001b[38;5;28mid\u001b[39m\u001b[38;5;241m=\u001b[39mn[\u001b[38;5;124m'\u001b[39m\u001b[38;5;124mid\u001b[39m\u001b[38;5;124m'\u001b[39m], name\u001b[38;5;241m=\u001b[39mn[\u001b[38;5;124m'\u001b[39m\u001b[38;5;124mname\u001b[39m\u001b[38;5;124m'\u001b[39m]))\n\u001b[1;32m     33\u001b[0m \u001b[38;5;28;01mreturn\u001b[39;00m \u001b[38;5;28msorted\u001b[39m(neighbourhoods, key\u001b[38;5;241m=\u001b[39m\u001b[38;5;28;01mlambda\u001b[39;00m n: n\u001b[38;5;241m.\u001b[39mname)\n",
      "File \u001b[0;32m/opt/anaconda3/envs/DL/lib/python3.11/site-packages/police_api/service.py:47\u001b[0m, in \u001b[0;36mBaseService.request\u001b[0;34m(self, verb, method, **kwargs)\u001b[0m\n\u001b[1;32m     45\u001b[0m \u001b[38;5;28;01mdef\u001b[39;00m \u001b[38;5;21mrequest\u001b[39m(\u001b[38;5;28mself\u001b[39m, verb, method, \u001b[38;5;241m*\u001b[39m\u001b[38;5;241m*\u001b[39mkwargs):\n\u001b[1;32m     46\u001b[0m     url \u001b[38;5;241m=\u001b[39m \u001b[38;5;28mself\u001b[39m\u001b[38;5;241m.\u001b[39mconfig[\u001b[38;5;124m'\u001b[39m\u001b[38;5;124mbase_url\u001b[39m\u001b[38;5;124m'\u001b[39m] \u001b[38;5;241m+\u001b[39m method\n\u001b[0;32m---> 47\u001b[0m     \u001b[38;5;28;01mreturn\u001b[39;00m \u001b[38;5;28;43mself\u001b[39;49m\u001b[38;5;241;43m.\u001b[39;49m\u001b[43m_make_request\u001b[49m\u001b[43m(\u001b[49m\u001b[43mverb\u001b[49m\u001b[38;5;241;43m.\u001b[39;49m\u001b[43mupper\u001b[49m\u001b[43m(\u001b[49m\u001b[43m)\u001b[49m\u001b[43m,\u001b[49m\u001b[43m \u001b[49m\u001b[43murl\u001b[49m\u001b[43m,\u001b[49m\u001b[43m \u001b[49m\u001b[43mkwargs\u001b[49m\u001b[43m)\u001b[49m\n",
      "File \u001b[0;32m/opt/anaconda3/envs/DL/lib/python3.11/site-packages/police_api/service.py:42\u001b[0m, in \u001b[0;36mBaseService._make_request\u001b[0;34m(self, verb, url, params)\u001b[0m\n\u001b[1;32m     40\u001b[0m logger\u001b[38;5;241m.\u001b[39mdebug(\u001b[38;5;124m'\u001b[39m\u001b[38;5;132;01m%s\u001b[39;00m\u001b[38;5;124m \u001b[39m\u001b[38;5;132;01m%s\u001b[39;00m\u001b[38;5;124m'\u001b[39m \u001b[38;5;241m%\u001b[39m (verb, url))\n\u001b[1;32m     41\u001b[0m r \u001b[38;5;241m=\u001b[39m requests\u001b[38;5;241m.\u001b[39mrequest(verb, url, \u001b[38;5;241m*\u001b[39m\u001b[38;5;241m*\u001b[39mrequest_kwargs)\n\u001b[0;32m---> 42\u001b[0m \u001b[38;5;28;43mself\u001b[39;49m\u001b[38;5;241;43m.\u001b[39;49m\u001b[43mraise_for_status\u001b[49m\u001b[43m(\u001b[49m\u001b[43mr\u001b[49m\u001b[43m)\u001b[49m\n\u001b[1;32m     43\u001b[0m \u001b[38;5;28;01mreturn\u001b[39;00m r\u001b[38;5;241m.\u001b[39mjson()\n",
      "File \u001b[0;32m/opt/anaconda3/envs/DL/lib/python3.11/site-packages/police_api/service.py:24\u001b[0m, in \u001b[0;36mBaseService.raise_for_status\u001b[0;34m(self, request)\u001b[0m\n\u001b[1;32m     22\u001b[0m     request\u001b[38;5;241m.\u001b[39mraise_for_status()\n\u001b[1;32m     23\u001b[0m \u001b[38;5;28;01mexcept\u001b[39;00m requests\u001b[38;5;241m.\u001b[39mmodels\u001b[38;5;241m.\u001b[39mHTTPError \u001b[38;5;28;01mas\u001b[39;00m e:\n\u001b[0;32m---> 24\u001b[0m     \u001b[38;5;28;01mraise\u001b[39;00m APIError(e)\n",
      "\u001b[0;31mAPIError\u001b[0m: <unknown error code>"
     ]
    }
   ],
   "source": [
    "def getNameId(records, rid=None):\n",
    "    ''' Get record name by id. '''\n",
    "    if rid:\n",
    "        return {r.name:r.id for r in records if rid == r.id}\n",
    "    return {r.name:r.id for r in records}\n",
    "force = api.get_force('Staffordshire Police')\n",
    "areas = getNameId(force.neighbourhoods)\n",
    "neighbourhood = force.get_neighbourhood(areas['Aldershot North'])\n",
    "crimes = api.get_crimes_area(neighbourhood.boundary, date='2024-03')"
   ]
  },
  {
   "cell_type": "code",
   "execution_count": 52,
   "metadata": {},
   "outputs": [
    {
     "data": {
      "text/plain": [
       "'14RA01'"
      ]
     },
     "execution_count": 52,
     "metadata": {},
     "output_type": "execute_result"
    }
   ],
   "source": [
    "areas['Aldershot North']"
   ]
  },
  {
   "cell_type": "code",
   "execution_count": 50,
   "metadata": {},
   "outputs": [
    {
     "ename": "KeyError",
     "evalue": "'Abbey Hulton &amp; Townsend'",
     "output_type": "error",
     "traceback": [
      "\u001b[0;31m---------------------------------------------------------------------------\u001b[0m",
      "\u001b[0;31mKeyError\u001b[0m                                  Traceback (most recent call last)",
      "Cell \u001b[0;32mIn[50], line 1\u001b[0m\n\u001b[0;32m----> 1\u001b[0m \u001b[43mareas\u001b[49m\u001b[43m[\u001b[49m\u001b[38;5;124;43m'\u001b[39;49m\u001b[38;5;124;43mAbbey Hulton &amp; Townsend\u001b[39;49m\u001b[38;5;124;43m'\u001b[39;49m\u001b[43m]\u001b[49m\n",
      "\u001b[0;31mKeyError\u001b[0m: 'Abbey Hulton &amp; Townsend'"
     ]
    }
   ],
   "source": [
    "areas['Abbey Hulton &amp; Townsend']"
   ]
  },
  {
   "cell_type": "code",
   "execution_count": null,
   "metadata": {},
   "outputs": [],
   "source": [
    "def setCrimesAsDataFrame(crimes, df=None):\n",
    "    ''' Convert crimes result to dataframe. '''\n",
    "    if df is None:\n",
    "        df=pd.DataFrame(columns = ['cid','type', 'month','name','lid','location','lat','lon'])\n",
    "        #[int, object, object, int, object, float, float]\n",
    "    for c in crimes:\n",
    "        df = df.append({'cid':c.id,'type':c.category.id, 'month':c.month, 'name':c.category.name,\n",
    "                            'lat':c.location.latitude,'lon':c.location.longitude, \n",
    "                        'lid':c.location.id,'location':c.location.name }, ignore_index=True)\n",
    "\n",
    "    df['lat']=df['lat'].astype(float)\n",
    "    df['lon']=df['lon'].astype(float)\n",
    "    \n",
    "    return df"
   ]
  },
  {
   "cell_type": "code",
   "execution_count": 17,
   "metadata": {},
   "outputs": [
    {
     "data": {
      "text/plain": [
       "['2024-03',\n",
       " '2024-02',\n",
       " '2024-01',\n",
       " '2023-12',\n",
       " '2023-11',\n",
       " '2023-10',\n",
       " '2023-09',\n",
       " '2023-08',\n",
       " '2023-07',\n",
       " '2023-06',\n",
       " '2023-05',\n",
       " '2023-04',\n",
       " '2023-03',\n",
       " '2023-02',\n",
       " '2023-01',\n",
       " '2022-12',\n",
       " '2022-11',\n",
       " '2022-10',\n",
       " '2022-09',\n",
       " '2022-08',\n",
       " '2022-07',\n",
       " '2022-06',\n",
       " '2022-05',\n",
       " '2022-04',\n",
       " '2022-03',\n",
       " '2022-02',\n",
       " '2022-01',\n",
       " '2021-12',\n",
       " '2021-11',\n",
       " '2021-10',\n",
       " '2021-09',\n",
       " '2021-08',\n",
       " '2021-07',\n",
       " '2021-06',\n",
       " '2021-05',\n",
       " '2021-04']"
      ]
     },
     "execution_count": 17,
     "metadata": {},
     "output_type": "execute_result"
    }
   ],
   "source": [
    "d = api.get_dates()\n",
    "d"
   ]
  },
  {
   "cell_type": "markdown",
   "metadata": {},
   "source": [
    "-----"
   ]
  },
  {
   "cell_type": "markdown",
   "metadata": {},
   "source": [
    "# test"
   ]
  },
  {
   "cell_type": "code",
   "execution_count": null,
   "metadata": {},
   "outputs": [],
   "source": [
    "force = api.get_force('avon-and-somerset')\n",
    "areas = get_neighbourhood_name_id(force.neighbourhoods)\n",
    "neighbourhood = force_data.get_neighbourhood(areas)\n",
    "\n",
    "neighbourhood_dict = {\"neighbourhood\": {}}\n",
    "for name, centre in areas.items():\n",
    "    neighbourhood_dict[\"neighbourhood\"][name] = {\"id\": id, \"name\": name, \"description\": description, \"priorities\": priorities}"
   ]
  },
  {
   "cell_type": "code",
   "execution_count": null,
   "metadata": {},
   "outputs": [],
   "source": [
    "def getIdName(records, name=None):\n",
    "    ''' Get id force by name. If no name, return a dict of name:id mappings. '''\n",
    "    if name:\n",
    "        return {r.name:r.id for r in records if name.lower() in r.name.lower()}\n",
    "    return {r.name:r.id for r in records}\n",
    "force = api.get_force('hampshire')\n",
    "areas = getIdName(force.neighbourhoods)\n",
    "neighbourhood = force.get_neighbourhood( areas['Ryde'] )\n",
    "neighbourhood.locations"
   ]
  },
  {
   "cell_type": "code",
   "execution_count": null,
   "metadata": {},
   "outputs": [],
   "source": [
    "force_data = api.get_force(\"norfolk\")\n",
    "def extract_senior_officer_details(senior_officers):\n",
    "    return [{\"force\": officer.force, \"name\": officer.name, \"rank\": officer.rank, \"bio\": officer.bio, \"contact_details\": officer.contact_details} for officer in senior_officers]\n",
    "extract_senior_officer_details(force_data.senior_officers)"
   ]
  },
  {
   "cell_type": "code",
   "execution_count": 49,
   "metadata": {},
   "outputs": [],
   "source": [
    "lat = \"51.500617\"\n",
    "lng = \"-0.124629\"\n",
    "force = requests.get(f'https://data.police.uk/api/locate-neighbourhood?q={lat},{lng}').json()#.get('force')"
   ]
  },
  {
   "cell_type": "code",
   "execution_count": 57,
   "metadata": {},
   "outputs": [
    {
     "ename": "JSONDecodeError",
     "evalue": "Expecting value: line 1 column 1 (char 0)",
     "output_type": "error",
     "traceback": [
      "\u001b[0;31m---------------------------------------------------------------------------\u001b[0m",
      "\u001b[0;31mJSONDecodeError\u001b[0m                           Traceback (most recent call last)",
      "File \u001b[0;32m/opt/anaconda3/envs/DL/lib/python3.11/site-packages/requests/models.py:974\u001b[0m, in \u001b[0;36mResponse.json\u001b[0;34m(self, **kwargs)\u001b[0m\n\u001b[1;32m    973\u001b[0m \u001b[38;5;28;01mtry\u001b[39;00m:\n\u001b[0;32m--> 974\u001b[0m     \u001b[38;5;28;01mreturn\u001b[39;00m \u001b[43mcomplexjson\u001b[49m\u001b[38;5;241;43m.\u001b[39;49m\u001b[43mloads\u001b[49m\u001b[43m(\u001b[49m\u001b[38;5;28;43mself\u001b[39;49m\u001b[38;5;241;43m.\u001b[39;49m\u001b[43mtext\u001b[49m\u001b[43m,\u001b[49m\u001b[43m \u001b[49m\u001b[38;5;241;43m*\u001b[39;49m\u001b[38;5;241;43m*\u001b[39;49m\u001b[43mkwargs\u001b[49m\u001b[43m)\u001b[49m\n\u001b[1;32m    975\u001b[0m \u001b[38;5;28;01mexcept\u001b[39;00m JSONDecodeError \u001b[38;5;28;01mas\u001b[39;00m e:\n\u001b[1;32m    976\u001b[0m     \u001b[38;5;66;03m# Catch JSON-related errors and raise as requests.JSONDecodeError\u001b[39;00m\n\u001b[1;32m    977\u001b[0m     \u001b[38;5;66;03m# This aliases json.JSONDecodeError and simplejson.JSONDecodeError\u001b[39;00m\n",
      "File \u001b[0;32m/opt/anaconda3/envs/DL/lib/python3.11/json/__init__.py:346\u001b[0m, in \u001b[0;36mloads\u001b[0;34m(s, cls, object_hook, parse_float, parse_int, parse_constant, object_pairs_hook, **kw)\u001b[0m\n\u001b[1;32m    343\u001b[0m \u001b[38;5;28;01mif\u001b[39;00m (\u001b[38;5;28mcls\u001b[39m \u001b[38;5;129;01mis\u001b[39;00m \u001b[38;5;28;01mNone\u001b[39;00m \u001b[38;5;129;01mand\u001b[39;00m object_hook \u001b[38;5;129;01mis\u001b[39;00m \u001b[38;5;28;01mNone\u001b[39;00m \u001b[38;5;129;01mand\u001b[39;00m\n\u001b[1;32m    344\u001b[0m         parse_int \u001b[38;5;129;01mis\u001b[39;00m \u001b[38;5;28;01mNone\u001b[39;00m \u001b[38;5;129;01mand\u001b[39;00m parse_float \u001b[38;5;129;01mis\u001b[39;00m \u001b[38;5;28;01mNone\u001b[39;00m \u001b[38;5;129;01mand\u001b[39;00m\n\u001b[1;32m    345\u001b[0m         parse_constant \u001b[38;5;129;01mis\u001b[39;00m \u001b[38;5;28;01mNone\u001b[39;00m \u001b[38;5;129;01mand\u001b[39;00m object_pairs_hook \u001b[38;5;129;01mis\u001b[39;00m \u001b[38;5;28;01mNone\u001b[39;00m \u001b[38;5;129;01mand\u001b[39;00m \u001b[38;5;129;01mnot\u001b[39;00m kw):\n\u001b[0;32m--> 346\u001b[0m     \u001b[38;5;28;01mreturn\u001b[39;00m \u001b[43m_default_decoder\u001b[49m\u001b[38;5;241;43m.\u001b[39;49m\u001b[43mdecode\u001b[49m\u001b[43m(\u001b[49m\u001b[43ms\u001b[49m\u001b[43m)\u001b[49m\n\u001b[1;32m    347\u001b[0m \u001b[38;5;28;01mif\u001b[39;00m \u001b[38;5;28mcls\u001b[39m \u001b[38;5;129;01mis\u001b[39;00m \u001b[38;5;28;01mNone\u001b[39;00m:\n",
      "File \u001b[0;32m/opt/anaconda3/envs/DL/lib/python3.11/json/decoder.py:337\u001b[0m, in \u001b[0;36mJSONDecoder.decode\u001b[0;34m(self, s, _w)\u001b[0m\n\u001b[1;32m    333\u001b[0m \u001b[38;5;250m\u001b[39m\u001b[38;5;124;03m\"\"\"Return the Python representation of ``s`` (a ``str`` instance\u001b[39;00m\n\u001b[1;32m    334\u001b[0m \u001b[38;5;124;03mcontaining a JSON document).\u001b[39;00m\n\u001b[1;32m    335\u001b[0m \n\u001b[1;32m    336\u001b[0m \u001b[38;5;124;03m\"\"\"\u001b[39;00m\n\u001b[0;32m--> 337\u001b[0m obj, end \u001b[38;5;241m=\u001b[39m \u001b[38;5;28;43mself\u001b[39;49m\u001b[38;5;241;43m.\u001b[39;49m\u001b[43mraw_decode\u001b[49m\u001b[43m(\u001b[49m\u001b[43ms\u001b[49m\u001b[43m,\u001b[49m\u001b[43m \u001b[49m\u001b[43midx\u001b[49m\u001b[38;5;241;43m=\u001b[39;49m\u001b[43m_w\u001b[49m\u001b[43m(\u001b[49m\u001b[43ms\u001b[49m\u001b[43m,\u001b[49m\u001b[43m \u001b[49m\u001b[38;5;241;43m0\u001b[39;49m\u001b[43m)\u001b[49m\u001b[38;5;241;43m.\u001b[39;49m\u001b[43mend\u001b[49m\u001b[43m(\u001b[49m\u001b[43m)\u001b[49m\u001b[43m)\u001b[49m\n\u001b[1;32m    338\u001b[0m end \u001b[38;5;241m=\u001b[39m _w(s, end)\u001b[38;5;241m.\u001b[39mend()\n",
      "File \u001b[0;32m/opt/anaconda3/envs/DL/lib/python3.11/json/decoder.py:355\u001b[0m, in \u001b[0;36mJSONDecoder.raw_decode\u001b[0;34m(self, s, idx)\u001b[0m\n\u001b[1;32m    354\u001b[0m \u001b[38;5;28;01mexcept\u001b[39;00m \u001b[38;5;167;01mStopIteration\u001b[39;00m \u001b[38;5;28;01mas\u001b[39;00m err:\n\u001b[0;32m--> 355\u001b[0m     \u001b[38;5;28;01mraise\u001b[39;00m JSONDecodeError(\u001b[38;5;124m\"\u001b[39m\u001b[38;5;124mExpecting value\u001b[39m\u001b[38;5;124m\"\u001b[39m, s, err\u001b[38;5;241m.\u001b[39mvalue) \u001b[38;5;28;01mfrom\u001b[39;00m \u001b[38;5;28;01mNone\u001b[39;00m\n\u001b[1;32m    356\u001b[0m \u001b[38;5;28;01mreturn\u001b[39;00m obj, end\n",
      "\u001b[0;31mJSONDecodeError\u001b[0m: Expecting value: line 1 column 1 (char 0)",
      "\nDuring handling of the above exception, another exception occurred:\n",
      "\u001b[0;31mJSONDecodeError\u001b[0m                           Traceback (most recent call last)",
      "Cell \u001b[0;32mIn[57], line 1\u001b[0m\n\u001b[0;32m----> 1\u001b[0m neigh \u001b[38;5;241m=\u001b[39m \u001b[43mrequests\u001b[49m\u001b[38;5;241;43m.\u001b[39;49m\u001b[43mget\u001b[49m\u001b[43m(\u001b[49m\u001b[38;5;124;43mf\u001b[39;49m\u001b[38;5;124;43m'\u001b[39;49m\u001b[38;5;124;43mhttps://data.police.uk/api/locate-neighbourhood?q=\u001b[39;49m\u001b[38;5;124;43m\"\u001b[39;49m\u001b[38;5;124;43mmetropolitan\u001b[39;49m\u001b[38;5;124;43m\"\u001b[39;49m\u001b[38;5;124;43m,\u001b[39;49m\u001b[38;5;124;43m\"\u001b[39;49m\u001b[38;5;124;43mE05013806N\u001b[39;49m\u001b[38;5;124;43m\"\u001b[39;49m\u001b[38;5;124;43m]\u001b[39;49m\u001b[38;5;124;43m'\u001b[39;49m\u001b[43m)\u001b[49m\u001b[38;5;241;43m.\u001b[39;49m\u001b[43mjson\u001b[49m\u001b[43m(\u001b[49m\u001b[43m)\u001b[49m\u001b[38;5;66;03m#.get('neighbourhood')\u001b[39;00m\n",
      "File \u001b[0;32m/opt/anaconda3/envs/DL/lib/python3.11/site-packages/requests/models.py:978\u001b[0m, in \u001b[0;36mResponse.json\u001b[0;34m(self, **kwargs)\u001b[0m\n\u001b[1;32m    974\u001b[0m     \u001b[38;5;28;01mreturn\u001b[39;00m complexjson\u001b[38;5;241m.\u001b[39mloads(\u001b[38;5;28mself\u001b[39m\u001b[38;5;241m.\u001b[39mtext, \u001b[38;5;241m*\u001b[39m\u001b[38;5;241m*\u001b[39mkwargs)\n\u001b[1;32m    975\u001b[0m \u001b[38;5;28;01mexcept\u001b[39;00m JSONDecodeError \u001b[38;5;28;01mas\u001b[39;00m e:\n\u001b[1;32m    976\u001b[0m     \u001b[38;5;66;03m# Catch JSON-related errors and raise as requests.JSONDecodeError\u001b[39;00m\n\u001b[1;32m    977\u001b[0m     \u001b[38;5;66;03m# This aliases json.JSONDecodeError and simplejson.JSONDecodeError\u001b[39;00m\n\u001b[0;32m--> 978\u001b[0m     \u001b[38;5;28;01mraise\u001b[39;00m RequestsJSONDecodeError(e\u001b[38;5;241m.\u001b[39mmsg, e\u001b[38;5;241m.\u001b[39mdoc, e\u001b[38;5;241m.\u001b[39mpos)\n",
      "\u001b[0;31mJSONDecodeError\u001b[0m: Expecting value: line 1 column 1 (char 0)"
     ]
    }
   ],
   "source": [
    "neigh = requests.get(f'https://data.police.uk/api/locate-neighbourhood?q=\"metropolitan\",\"E05013806N\"]').json()#.get('neighbourhood')"
   ]
  },
  {
   "cell_type": "code",
   "execution_count": 54,
   "metadata": {},
   "outputs": [
    {
     "data": {
      "text/plain": [
       "{'force': 'metropolitan', 'neighbourhood': 'E05013806N'}"
      ]
     },
     "execution_count": 54,
     "metadata": {},
     "output_type": "execute_result"
    }
   ],
   "source": [
    "force"
   ]
  },
  {
   "cell_type": "code",
   "execution_count": null,
   "metadata": {},
   "outputs": [],
   "source": [
    "def match_postcodes(postcode):\n",
    "    \"\"\"\n",
    "    Function that takes a postcode and build a polygon based on the coordinates of the area around it.\n",
    "    \"\"\"\n",
    "    response = requests.get(f'http://api.postcodes.io/postcodes/{postcode}')\n",
    "    if response.ok:\n",
    "        df = [response.json()['result']['latitude'],response.json()['result']['longitude']]\n",
    "        force = requests.get(f'https://data.police.uk/api/locate-neighbourhood?q={df[0]},{df[1]}').json().get('force')\n",
    "        neigh = requests.get(f'https://data.police.uk/api/locate-neighbourhood?q={df[0]},{df[1]}').json().get('neighbourhood')\n",
    "        boundary = requests.get(f'https://data.police.uk/api/{force}/{neigh}/boundary').json()\n",
    "        boundary = pd.DataFrame.from_dict(boundary)\n",
    "        polygon=f\"{boundary['latitude'].max()},{boundary['longitude'].max()}:\\\n",
    "            {boundary['latitude'].max()},{boundary['longitude'].min()}:\\\n",
    "                {boundary['latitude'].min()},{boundary['longitude'].min()}:\\\n",
    "                    {boundary['latitude'].min()},{boundary['longitude'].max()}\"\n",
    "    else:\n",
    "        raise Exception\n",
    "    return df, polygon"
   ]
  },
  {
   "cell_type": "code",
   "execution_count": 3,
   "metadata": {},
   "outputs": [],
   "source": [
    "def fetch_dates():\n",
    "    \"\"\"\n",
    "    Function that fetches the date range of the available data\n",
    "    \"\"\"\n",
    "    response = requests.get('https://data.police.uk/api/crimes-street-dates')\n",
    "    if response.ok:\n",
    "        print(\"Data pull successfully\")\n",
    "        df = pd.DataFrame.from_dict(response.json())\n",
    "        df = df.explode('stop-and-search')\n",
    "    else:\n",
    "        print(\"Data pull failed\")\n",
    "    return df"
   ]
  },
  {
   "cell_type": "code",
   "execution_count": 4,
   "metadata": {},
   "outputs": [
    {
     "name": "stdout",
     "output_type": "stream",
     "text": [
      "Data pull successfully\n"
     ]
    }
   ],
   "source": [
    "df = fetch_dates()"
   ]
  },
  {
   "cell_type": "code",
   "execution_count": 5,
   "metadata": {},
   "outputs": [
    {
     "data": {
      "text/html": [
       "<div>\n",
       "<style scoped>\n",
       "    .dataframe tbody tr th:only-of-type {\n",
       "        vertical-align: middle;\n",
       "    }\n",
       "\n",
       "    .dataframe tbody tr th {\n",
       "        vertical-align: top;\n",
       "    }\n",
       "\n",
       "    .dataframe thead th {\n",
       "        text-align: right;\n",
       "    }\n",
       "</style>\n",
       "<table border=\"1\" class=\"dataframe\">\n",
       "  <thead>\n",
       "    <tr style=\"text-align: right;\">\n",
       "      <th></th>\n",
       "      <th>date</th>\n",
       "      <th>stop-and-search</th>\n",
       "    </tr>\n",
       "  </thead>\n",
       "  <tbody>\n",
       "    <tr>\n",
       "      <th>0</th>\n",
       "      <td>2024-03</td>\n",
       "      <td>bedfordshire</td>\n",
       "    </tr>\n",
       "    <tr>\n",
       "      <th>0</th>\n",
       "      <td>2024-03</td>\n",
       "      <td>btp</td>\n",
       "    </tr>\n",
       "    <tr>\n",
       "      <th>0</th>\n",
       "      <td>2024-03</td>\n",
       "      <td>cambridgeshire</td>\n",
       "    </tr>\n",
       "    <tr>\n",
       "      <th>0</th>\n",
       "      <td>2024-03</td>\n",
       "      <td>city-of-london</td>\n",
       "    </tr>\n",
       "    <tr>\n",
       "      <th>0</th>\n",
       "      <td>2024-03</td>\n",
       "      <td>cleveland</td>\n",
       "    </tr>\n",
       "    <tr>\n",
       "      <th>...</th>\n",
       "      <td>...</td>\n",
       "      <td>...</td>\n",
       "    </tr>\n",
       "    <tr>\n",
       "      <th>35</th>\n",
       "      <td>2021-04</td>\n",
       "      <td>warwickshire</td>\n",
       "    </tr>\n",
       "    <tr>\n",
       "      <th>35</th>\n",
       "      <td>2021-04</td>\n",
       "      <td>west-mercia</td>\n",
       "    </tr>\n",
       "    <tr>\n",
       "      <th>35</th>\n",
       "      <td>2021-04</td>\n",
       "      <td>west-midlands</td>\n",
       "    </tr>\n",
       "    <tr>\n",
       "      <th>35</th>\n",
       "      <td>2021-04</td>\n",
       "      <td>west-yorkshire</td>\n",
       "    </tr>\n",
       "    <tr>\n",
       "      <th>35</th>\n",
       "      <td>2021-04</td>\n",
       "      <td>wiltshire</td>\n",
       "    </tr>\n",
       "  </tbody>\n",
       "</table>\n",
       "<p>1440 rows × 2 columns</p>\n",
       "</div>"
      ],
      "text/plain": [
       "       date stop-and-search\n",
       "0   2024-03    bedfordshire\n",
       "0   2024-03             btp\n",
       "0   2024-03  cambridgeshire\n",
       "0   2024-03  city-of-london\n",
       "0   2024-03       cleveland\n",
       "..      ...             ...\n",
       "35  2021-04    warwickshire\n",
       "35  2021-04     west-mercia\n",
       "35  2021-04   west-midlands\n",
       "35  2021-04  west-yorkshire\n",
       "35  2021-04       wiltshire\n",
       "\n",
       "[1440 rows x 2 columns]"
      ]
     },
     "execution_count": 5,
     "metadata": {},
     "output_type": "execute_result"
    }
   ],
   "source": [
    "df"
   ]
  },
  {
   "cell_type": "code",
   "execution_count": null,
   "metadata": {},
   "outputs": [],
   "source": [
    "def match_postcodes(postcode):\n",
    "    \"\"\"\n",
    "    Function that takes a postcode and build a polygon based on the coordinates of the area around it.\n",
    "    \"\"\"\n",
    "    response = requests.get(f'http://api.postcodes.io/postcodes/{postcode}')\n",
    "    if response.ok:\n",
    "        df = [response.json()['result']['latitude'],response.json()['result']['longitude']]\n",
    "        force = requests.get(f'https://data.police.uk/api/locate-neighbourhood?q={df[0]},{df[1]}').json().get('force')\n",
    "        neigh = requests.get(f'https://data.police.uk/api/locate-neighbourhood?q={df[0]},{df[1]}').json().get('neighbourhood')\n",
    "        boundary = requests.get(f'https://data.police.uk/api/{force}/{neigh}/boundary').json()\n",
    "        boundary = pd.DataFrame.from_dict(boundary)\n",
    "        polygon=f\"{boundary['latitude'].max()},{boundary['longitude'].max()}:\\\n",
    "            {boundary['latitude'].max()},{boundary['longitude'].min()}:\\\n",
    "                {boundary['latitude'].min()},{boundary['longitude'].min()}:\\\n",
    "                    {boundary['latitude'].min()},{boundary['longitude'].max()}\"\n",
    "    else:\n",
    "        raise Exception\n",
    "    return df, polygon"
   ]
  },
  {
   "cell_type": "code",
   "execution_count": 8,
   "metadata": {},
   "outputs": [],
   "source": [
    "response = requests.get('http://api.postcodes.io/postcodes/')"
   ]
  },
  {
   "cell_type": "code",
   "execution_count": 9,
   "metadata": {},
   "outputs": [
    {
     "data": {
      "text/plain": [
       "{'status': 400,\n",
       " 'error': 'No postcode query submitted. Remember to include query parameter'}"
      ]
     },
     "execution_count": 9,
     "metadata": {},
     "output_type": "execute_result"
    }
   ],
   "source": [
    "response.json()"
   ]
  },
  {
   "cell_type": "code",
   "execution_count": null,
   "metadata": {},
   "outputs": [],
   "source": []
  }
 ],
 "metadata": {
  "kernelspec": {
   "display_name": "DL",
   "language": "python",
   "name": "python3"
  },
  "language_info": {
   "codemirror_mode": {
    "name": "ipython",
    "version": 3
   },
   "file_extension": ".py",
   "mimetype": "text/x-python",
   "name": "python",
   "nbconvert_exporter": "python",
   "pygments_lexer": "ipython3",
   "version": "3.11.3"
  }
 },
 "nbformat": 4,
 "nbformat_minor": 2
}
